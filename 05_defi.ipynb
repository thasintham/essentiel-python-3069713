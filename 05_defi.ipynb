{
 "cells": [
  {
   "cell_type": "code",
   "execution_count": 7,
   "metadata": {},
   "outputs": [],
   "source": [
    "class CompteBancaire(object):\n",
    "  def __init__(self, numeroCompte, nom, solde):\n",
    "    self.numeroCompte = numeroCompte\n",
    "    self.nom = nom\n",
    "    self.solde = solde\n",
    "\n",
    "  def versement(self,montant):\n",
    "    self.solde = self.solde + montant\n",
    "    print(f\"Le nouveau montant est {self.solde:.2f}\")\n",
    "  \n",
    "  def retrait(self,montant):\n",
    "    self.solde = self.solde - montant\n",
    "    print(f\"Le nouveau montant est {self.solde:.2f}\")\n",
    "\n",
    "  def agios(self):\n",
    "    self.solde = self.solde * 0.95\n",
    "    print(f\"Le nouveau montant est {self.solde:.2f}\")"
   ]
  },
  {
   "cell_type": "code",
   "execution_count": 8,
   "metadata": {},
   "outputs": [],
   "source": [
    "s = CompteBancaire(\"S1234\", \"Chanthy\", 1000)"
   ]
  },
  {
   "cell_type": "code",
   "execution_count": 3,
   "metadata": {},
   "outputs": [
    {
     "name": "stdout",
     "output_type": "stream",
     "text": [
      "Le nouveau montant est 1100.00\n"
     ]
    }
   ],
   "source": [
    "s.versement(100)"
   ]
  },
  {
   "cell_type": "code",
   "execution_count": 4,
   "metadata": {},
   "outputs": [
    {
     "name": "stdout",
     "output_type": "stream",
     "text": [
      "Le nouveau montant est 1000.00\n"
     ]
    }
   ],
   "source": [
    "s.retrait(100)"
   ]
  },
  {
   "cell_type": "code",
   "execution_count": 9,
   "metadata": {},
   "outputs": [
    {
     "name": "stdout",
     "output_type": "stream",
     "text": [
      "Le nouveau montant est 950.00\n"
     ]
    }
   ],
   "source": [
    "s.agios()"
   ]
  }
 ],
 "metadata": {
  "kernelspec": {
   "display_name": "Python 3",
   "language": "python",
   "name": "python3"
  },
  "language_info": {
   "codemirror_mode": {
    "name": "ipython",
    "version": 3
   },
   "file_extension": ".py",
   "mimetype": "text/x-python",
   "name": "python",
   "nbconvert_exporter": "python",
   "pygments_lexer": "ipython3",
   "version": "3.10.13"
  }
 },
 "nbformat": 4,
 "nbformat_minor": 2
}
