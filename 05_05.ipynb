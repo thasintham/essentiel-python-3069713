{
 "cells": [
  {
   "cell_type": "code",
   "execution_count": 5,
   "metadata": {},
   "outputs": [],
   "source": [
    "class Salarie(object):\n",
    "  def __init__(self, nom, nos):\n",
    "    self.nom = nom\n",
    "    self.nos = nos\n",
    "\n",
    "  def afficher(self):\n",
    "    print(\"Nom\", self.nom)\n",
    "    print(\"Num Salarié\", self.nos)"
   ]
  },
  {
   "cell_type": "code",
   "execution_count": 6,
   "metadata": {},
   "outputs": [],
   "source": [
    "s = Salarie(\"Alison\", \"AP123456\")"
   ]
  },
  {
   "cell_type": "code",
   "execution_count": 7,
   "metadata": {},
   "outputs": [
    {
     "name": "stdout",
     "output_type": "stream",
     "text": [
      "Nom Alison\n",
      "Num Salarié AP123456\n"
     ]
    }
   ],
   "source": [
    "s.afficher()"
   ]
  }
 ],
 "metadata": {
  "kernelspec": {
   "display_name": "Python 3",
   "language": "python",
   "name": "python3"
  },
  "language_info": {
   "codemirror_mode": {
    "name": "ipython",
    "version": 3
   },
   "file_extension": ".py",
   "mimetype": "text/x-python",
   "name": "python",
   "nbconvert_exporter": "python",
   "pygments_lexer": "ipython3",
   "version": "3.10.13"
  }
 },
 "nbformat": 4,
 "nbformat_minor": 2
}
