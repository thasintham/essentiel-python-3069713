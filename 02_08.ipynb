{
 "cells": [
  {
   "cell_type": "code",
   "execution_count": 5,
   "metadata": {},
   "outputs": [
    {
     "name": "stdout",
     "output_type": "stream",
     "text": [
      "Value of a 5\n"
     ]
    }
   ],
   "source": [
    "a = 5\n",
    "b = str(a)\n",
    "b\n",
    "print(\"Value of a \" + str(a))"
   ]
  },
  {
   "cell_type": "code",
   "execution_count": 9,
   "metadata": {},
   "outputs": [
    {
     "data": {
      "text/plain": [
       "('alex', 'chanthy')"
      ]
     },
     "execution_count": 9,
     "metadata": {},
     "output_type": "execute_result"
    }
   ],
   "source": [
    "tuple1 = ('alex','chanthy')\n",
    "type(tuple1)\n",
    "tuple1"
   ]
  },
  {
   "cell_type": "code",
   "execution_count": 10,
   "metadata": {},
   "outputs": [],
   "source": [
    "tuple2 = ('bauters','cao')"
   ]
  },
  {
   "cell_type": "code",
   "execution_count": 11,
   "metadata": {},
   "outputs": [
    {
     "data": {
      "text/plain": [
       "{'alex': 'bauters', 'chanthy': 'cao'}"
      ]
     },
     "execution_count": 11,
     "metadata": {},
     "output_type": "execute_result"
    }
   ],
   "source": [
    "dict1 = {}\n",
    "dict1[tuple1[0]] = tuple2[0]\n",
    "dict1[tuple1[1]] = tuple2[1]\n",
    "dict1"
   ]
  },
  {
   "cell_type": "code",
   "execution_count": 13,
   "metadata": {},
   "outputs": [
    {
     "data": {
      "text/plain": [
       "{'alex': 'bauters', 'chanthy': 'cao', 'alison': 'patou'}"
      ]
     },
     "execution_count": 13,
     "metadata": {},
     "output_type": "execute_result"
    }
   ],
   "source": [
    "dict2 = dict1\n",
    "dict2['alison'] = 'patou'\n",
    "dict2\n"
   ]
  },
  {
   "cell_type": "code",
   "execution_count": 15,
   "metadata": {},
   "outputs": [
    {
     "data": {
      "text/plain": [
       "<filter at 0x7fa0456e4280>"
      ]
     },
     "execution_count": 15,
     "metadata": {},
     "output_type": "execute_result"
    }
   ],
   "source": [
    "liste=[1,2,3,4,5]\n",
    "list(filter(lambda x:x>2,liste))"
   ]
  },
  {
   "cell_type": "code",
   "execution_count": 2,
   "metadata": {},
   "outputs": [],
   "source": [
    "def calcul_salaire(baseHoraire, heureTravaille):\n",
    "  baseHeureTravail = 0\n",
    "  heureSupp = 0\n",
    "\n",
    "  if(heureTravaille > 40):\n",
    "    baseHeureTravail = 40\n",
    "    heureSupp = heureTravaille - 40\n",
    "  else:\n",
    "    baseHeureTravail = heureTravaille\n",
    "    heureSupp = 0\n",
    "  \n",
    "  salaire = (baseHeureTravail * baseHoraire) + (heureSupp * (baseHoraire * 1.5))\n",
    "  return salaire"
   ]
  },
  {
   "cell_type": "code",
   "execution_count": 4,
   "metadata": {},
   "outputs": [
    {
     "name": "stdout",
     "output_type": "stream",
     "text": [
      "Le salaire est de : 5500.00 €\n"
     ]
    }
   ],
   "source": [
    "salaire = calcul_salaire(100,40)\n",
    "salaire = calcul_salaire(100,30)\n",
    "salaire = calcul_salaire(100,50)\n",
    "print(f\"Le salaire est de : {salaire:.2f} €\")"
   ]
  }
 ],
 "metadata": {
  "kernelspec": {
   "display_name": "Python 3",
   "language": "python",
   "name": "python3"
  },
  "language_info": {
   "codemirror_mode": {
    "name": "ipython",
    "version": 3
   },
   "file_extension": ".py",
   "mimetype": "text/x-python",
   "name": "python",
   "nbconvert_exporter": "python",
   "pygments_lexer": "ipython3",
   "version": "3.10.13"
  }
 },
 "nbformat": 4,
 "nbformat_minor": 2
}
